{
 "cells": [
  {
   "cell_type": "markdown",
   "metadata": {},
   "source": [
    "### \"СompressFun! или методы сжатия для самых маленьких\""
   ]
  },
  {
   "cell_type": "markdown",
   "metadata": {},
   "source": [
    "**RLE (Run-Length Encoding) кодирование длин серий**\n",
    "\n",
    "**Задача:**\n",
    "Укоротить последовательность (количество повторений символа + повторяющийся символ)   \n",
    "ААААА -> 5A   \n",
    "АААААBBCCCCHHHHH -> 5A2B4C5H"
   ]
  },
  {
   "cell_type": "code",
   "execution_count": 30,
   "metadata": {},
   "outputs": [
    {
     "name": "stdout",
     "output_type": "stream",
     "text": [
      "АААААGGCCCCNHHHHH\n",
      "5АGG4CNH\n"
     ]
    }
   ],
   "source": [
    "# Пример: АААААGGCCCCNHHHHH\n",
    "def RLE(data):\n",
    "    encodedList = []\n",
    "    lastSymbol = data.pop(0)    # Берём и удаляем первый символ входных данных для дальнейшего сравнения\n",
    "    k = 1\n",
    "    output = True\n",
    "    lenData = len(data)\n",
    "    for i in range(lenData):\n",
    "        output = True\n",
    "        if (lastSymbol == data[i]):\n",
    "            k += 1\n",
    "            output = False\n",
    "        if (output == True):\n",
    "            if (k > 2):\n",
    "                encodedList.append(str(k) + str(lastSymbol))\n",
    "            if (k == 2):\n",
    "                encodedList.append(str(lastSymbol + lastSymbol))\n",
    "            if (k == 1):\n",
    "                encodedList.append(str(lastSymbol))\n",
    "            lastSymbol = data[i]\n",
    "            k = 1\n",
    "        if (i == (lenData - 1)):\n",
    "            encodedList.append(str(lastSymbol))\n",
    "    final = ''.join(encodedList)\n",
    "    return final\n",
    "\n",
    "#print(RLE(list(input())))\n",
    "print(\"АААААGGCCCCNHHHHH\")\n",
    "print(RLE(list(\"АААААGGCCCCNHHHHH\")))"
   ]
  },
  {
   "cell_type": "markdown",
   "metadata": {},
   "source": [
    "Неплохой способ \"сжатия\" с длинными последовательными повторениями символов, но этот способ малоэффективен в случаях символов N и G из примера. \"GG\" меняется на \"2G\", что бессмысленно, а \"N\" меняется на \"1N\", что вообще никуда не годиться. **НО**, ... про доп. байт"
   ]
  },
  {
   "cell_type": "markdown",
   "metadata": {},
   "source": [
    "**BWT (Burrows-Wheeler transform)**    \n",
    "Мы сделаем лучше. **BWT** позволяет с помощью точного алгоритма сгруппировать одинаковые части последовательности для дальнейшего использования **RLE**.\n",
    "\n",
    "**Без BWT:**    \n",
    "ABACABA -> 1A1B1A1C1A1B1A\n",
    "\n",
    "**С BWT:**    \n",
    "ABACABA -> CBBAAAA\n",
    "CBBAAAA -> 1C2B4A\n",
    "\n",
    "На более больших последовательностях выгода будет существенно больше.\n",
    "\n",
    "**Описание алгоритма**  \n",
    "Преобразование выполняется в три этапа:\n",
    "\n",
    "1. Составляется таблица всех циклических сдвигов входной строки.\n",
    "2. Производится лексикографическая (в алфавитном порядке) сортировка строк таблицы.\n",
    "3. В качестве выходной строки выбирается последний столбец таблицы преобразования и номер строки, совпадающей с исходной.    \n",
    "\n",
    "**Описание взято с Wiki университета ИТМО**"
   ]
  },
  {
   "cell_type": "code",
   "execution_count": 31,
   "metadata": {},
   "outputs": [
    {
     "name": "stdout",
     "output_type": "stream",
     "text": [
      "АНАНАС\n",
      "\n",
      "АНАНАС■\n",
      "НАНАС■А\n",
      "АНАС■АН\n",
      "НАС■АНА\n",
      "АС■АНАН\n",
      "С■АНАНА\n",
      "■АНАНАС\n",
      "\n",
      "АНАНАС■\n",
      "АНАС■АН\n",
      "АС■АНАН\n",
      "НАНАС■А\n",
      "НАС■АНА\n",
      "С■АНАНА\n",
      "■АНАНАС\n",
      "\n",
      "■ННАААС\n"
     ]
    }
   ],
   "source": [
    "def printList(inList):\n",
    "    for part in inList:\n",
    "        print(part)\n",
    "    print()\n",
    "\n",
    "# Пример: АНАНАС    \n",
    "def BWT(data):\n",
    "    if (debug):\n",
    "        print()\n",
    "    lenData = len(data)\n",
    "    data.append(\"■\") #alt+254 (■ = 254)\n",
    "    sortList = []\n",
    "    for cycle in data:\n",
    "        sortList.append(''.join(data))\n",
    "        data.append(data.pop(0))  \n",
    "    if (debug): \n",
    "        printList(sortList)\n",
    "    sortList.sort()\n",
    "    if (debug):\n",
    "        printList(sortList)\n",
    "    finalList = []\n",
    "    for cycle in sortList:\n",
    "        finalList.append(cycle[lenData]) \n",
    "    final = ''.join(finalList)\n",
    "    return final\n",
    "\n",
    "debug = 1   \n",
    "#print(BWT(list(input())))\n",
    "print(\"АНАНАС\")\n",
    "print(BWT(list(\"АНАНАС\")))"
   ]
  },
  {
   "cell_type": "code",
   "execution_count": 32,
   "metadata": {},
   "outputs": [
    {
     "name": "stdout",
     "output_type": "stream",
     "text": [
      "■ННАААС\n",
      "['АН', 'АН', 'АС', 'НА', 'НА', 'С■', '■А']\n",
      "['АНА', 'АНА', 'АС■', 'НАН', 'НАС', 'С■А', '■АН']\n",
      "['АНАН', 'АНАС', 'АС■А', 'НАНА', 'НАС■', 'С■АН', '■АНА']\n",
      "['АНАНА', 'АНАС■', 'АС■АН', 'НАНАС', 'НАС■А', 'С■АНА', '■АНАН']\n",
      "['АНАНАС', 'АНАС■А', 'АС■АНА', 'НАНАС■', 'НАС■АН', 'С■АНАН', '■АНАНА']\n",
      "['АНАНАС■', 'АНАС■АН', 'АС■АНАН', 'НАНАС■А', 'НАС■АНА', 'С■АНАНА', '■АНАНАС']\n",
      "АНАНАС\n"
     ]
    }
   ],
   "source": [
    "# Пример: ■ННАААС  \n",
    "def BWTDecode(data):\n",
    "    n = len(data)\n",
    "    sortList = data.copy() \n",
    "    sortList.sort()\n",
    "    for x in range(n - 1):\n",
    "        for y in range(n):\n",
    "            last = sortList[y]\n",
    "            sortList.pop(y)\n",
    "            sortList.insert(y, str(data[y]) + str(last)) \n",
    "        sortList.sort()\n",
    "        if (debug):\n",
    "            print(sortList)\n",
    "    for variant in sortList:\n",
    "        if (variant[0] == \"■\"):\n",
    "            final = variant\n",
    "    final = final[1:]\n",
    "    return final\n",
    "    \n",
    "debug = 1\n",
    "#print(BWTDecode(list(input())))\n",
    "print(\"■ННАААС\")\n",
    "print(BWTDecode(list(\"■ННАААС\")))"
   ]
  },
  {
   "cell_type": "code",
   "execution_count": 33,
   "metadata": {},
   "outputs": [],
   "source": [
    "def Division(allSymbols, n):   \n",
    "    part = []\n",
    "    for i in range(0, len(allSymbols), n):\n",
    "        part.append(allSymbols[i:i+n])\n",
    "    return part"
   ]
  },
  {
   "cell_type": "code",
   "execution_count": 35,
   "metadata": {},
   "outputs": [
    {
     "name": "stdout",
     "output_type": "stream",
     "text": [
      "АНАНАСАJАJАСАGАGАС\n",
      "['АНАНАСАJАJАСАGАGАС']\n",
      "4АСGСJ■НJНG5АС"
     ]
    }
   ],
   "source": [
    "# Пример: АНАНАСАJАJАСАGАGАС\n",
    "debug = 0\n",
    "listParts = Division(input(), 30)\n",
    "print(listParts)\n",
    "for part in listParts:\n",
    "    appliedBWT = BWT(list(part))\n",
    "    #print(appliedBWT)\n",
    "    appliedRLE = RLE(list(appliedBWT))\n",
    "    print(appliedRLE, end='')"
   ]
  },
  {
   "cell_type": "code",
   "execution_count": 54,
   "metadata": {},
   "outputs": [
    {
     "name": "stdout",
     "output_type": "stream",
     "text": [
      "Hel\n",
      "Hel\n",
      "l\n",
      "llo\n",
      "ello\n"
     ]
    }
   ],
   "source": [
    "# Полезная фича 1\n",
    "str = \"Hello\"\n",
    "print(str[0:-2])\n",
    "print(str[:-2]) # Так тоже можно, но читаемость хуже\n",
    "print(str[2:-2])\n",
    "print(str[2:5])\n",
    "print(str[1:])"
   ]
  },
  {
   "cell_type": "code",
   "execution_count": 101,
   "metadata": {},
   "outputs": [
    {
     "name": "stdout",
     "output_type": "stream",
     "text": [
      "[4, 6, 3, 8]\n",
      "[4, 6, 9, 8]\n"
     ]
    }
   ],
   "source": [
    "# Полезная фича 2\n",
    "myList = [4, 6, 3, 8]\n",
    "print(myList)\n",
    "myList.pop(2)\n",
    "myList.insert(2, 9)\n",
    "print(myList)"
   ]
  },
  {
   "cell_type": "code",
   "execution_count": null,
   "metadata": {},
   "outputs": [],
   "source": []
  }
 ],
 "metadata": {
  "kernelspec": {
   "display_name": "Python 3",
   "language": "python",
   "name": "python3"
  },
  "language_info": {
   "codemirror_mode": {
    "name": "ipython",
    "version": 3
   },
   "file_extension": ".py",
   "mimetype": "text/x-python",
   "name": "python",
   "nbconvert_exporter": "python",
   "pygments_lexer": "ipython3",
   "version": "3.6.4"
  }
 },
 "nbformat": 4,
 "nbformat_minor": 2
}
